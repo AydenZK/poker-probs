{
 "cells": [
  {
   "cell_type": "markdown",
   "metadata": {},
   "source": [
    "# Poker Probabilities"
   ]
  },
  {
   "cell_type": "markdown",
   "metadata": {},
   "source": [
    "Driven by a desire to develop a statistical mental framework in late night online poker sessions, I thought it may be fun to create a probability calculator for the game. This code's desired state is to allow the user to input their hand and current board, so the calculator can return the probabilities of getting a pair, two_pair, straight, flush, etc. The challenge here is to understand different combinations and permutations of possible hands, given current inputs, to then code up the functions to calculate probabilities.\n",
    "Unfortunately, this project remains unfinished, where all the wrapper classes are generated, but only the flush calculation is coded. \n",
    "\n",
    "Challenges I have faced include:\n",
    "- Figuring out how to verify my maths is correct\n",
    "- Evaluating which combinations/permutations are needed for each possibility"
   ]
  },
  {
   "cell_type": "markdown",
   "metadata": {},
   "source": [
    "## Usage\n",
    "Given your hand and the current board, this script will calculate the probabilities of:\n",
    "- one pair\n",
    "- two pair\n",
    "- three of a kind\n",
    "- four of a kind\n",
    "- a full house\n",
    "- a flush\n",
    "- a straght\n",
    "\n",
    "### Initialise:\n",
    "`p = PokerCalculator((6h, 7h), (5c, Js, Ad))`\n",
    "\n",
    "This means:\n",
    "- Your hand is a 6 of Hearts and 7 of Hearts\n",
    "- The board is a 5 of Clubs, Jack of Spades and Ace of Diamonds\n",
    "\n",
    "`p.calc_flush()`\n",
    "> 0 \n",
    "\n",
    "`p.calc_full_house()`\n",
    "> 0\n",
    "\n",
    "`p.calc_all()`\n",
    "- > Three of a Kind: 0.3 \n",
    "- > Four of a Kind: 0.12\n",
    "- > Flush: 0.\n",
    "..."
   ]
  },
  {
   "cell_type": "code",
   "execution_count": 70,
   "metadata": {},
   "outputs": [],
   "source": [
    "import random\n",
    "from math import comb as c\n",
    "from math import factorial as f"
   ]
  },
  {
   "cell_type": "code",
   "execution_count": 64,
   "metadata": {},
   "outputs": [],
   "source": [
    "class PokerCalculator:\n",
    "    def __init__(self, hand:list, board: list = []):\n",
    "        self.board = board\n",
    "        self.hand = hand\n",
    "        self.cons = self.hand + self.board # consolidated hand\n",
    "        self.suits = sorted([s for _, s in self.cons])\n",
    "        self.nums = sorted([n for n, _ in self.cons])\n",
    "        # self.deck = self.create_deck()\n",
    "        self.remaining = 7 - len(self.cons)\n",
    "        self.revealed = len(self.cons)\n",
    "        \n",
    "\n",
    "    def create_deck(self) -> list:\n",
    "        \"\"\"Creates a deck of cards to aid simulation in code\"\"\"\n",
    "        deck = []\n",
    "        for num in ['2', '3', '4', '5', '6', '7', '8', '9', 'T', 'A', 'J', 'Q', 'K']: \n",
    "            for suit in [\"h\", \"d\", \"s\", \"c\"]:\n",
    "                deck.append(num+suit)\n",
    "        for card in self.cons:\n",
    "            deck.remove(card)\n",
    "        return deck\n",
    "\n",
    "    def is_flush(self) -> bool:\n",
    "        \"\"\"Evaluates whether the board+hand has a flush\"\"\"\n",
    "        if not self.board:\n",
    "            return False\n",
    "        ct = 1\n",
    "        # o(n)\n",
    "        for i in range(len(self.suits)):\n",
    "            if ct == 5:\n",
    "                return True\n",
    "            if self.suits[i] == self.suits[i-1]:\n",
    "                ct += 1\n",
    "            else:\n",
    "                ct = 1\n",
    "        return False\n",
    "    \n",
    "    def is_one_pair(self):\n",
    "        \"\"\"Evaluates whether the board+hand is a one-pair\"\"\"\n",
    "        for num in self.nums:\n",
    "            if self.nums.count(num) == 2:\n",
    "                print(num)\n",
    "                return True\n",
    "        return False\n",
    "\n",
    "    def calc_one_pair(self):\n",
    "        \"\"\"Evaluates the probability of getting a one_pair given the board and hand\n",
    "        Note: This function is currently incorrect\"\"\"\n",
    "        if self.is_one_pair():\n",
    "            return 1\n",
    "        \n",
    "        n_ways = 0\n",
    "        for num in self.nums:\n",
    "            have = self.nums.count(num)\n",
    "            non_num = 52 - self.revealed - 4 + have\n",
    "            n_ways += c(4-have,1) * c(non_num, self.remaining-1)\n",
    "        \n",
    "        return n_ways / c(52-self.revealed, self.remaining)\n",
    "\n",
    "    def calc_flush(self):\n",
    "        \"\"\" Evaluates the probability of attaining a flush given the current board+hand\n",
    "        \"\"\"\n",
    "        if self.is_flush():\n",
    "            return 1\n",
    "        \n",
    "        n_ways = 0\n",
    "        for suit in set(self.suits):\n",
    "            have = self.suits.count(suit)  \n",
    "            non_suit = 52 - self.revealed - 13 + have\n",
    "            choose = self.remaining\n",
    "            while choose + have >= 5:\n",
    "                n_ways += (c(13-have, choose)*c(non_suit, self.remaining-choose))\n",
    "                choose -= 1\n",
    "        \n",
    "        return n_ways / c(52-self.revealed, self.remaining)\n",
    "\n",
    "    def print_all(self):\n",
    "        \"\"\"Prints the current board+hand in a human readable format\"\"\"\n",
    "        print(f\"Hand: {self.hand}, Board: {self.board}\")\n",
    "        "
   ]
  },
  {
   "cell_type": "code",
   "execution_count": 75,
   "metadata": {},
   "outputs": [
    {
     "data": {
      "text/plain": [
       "0.06399828201400819"
      ]
     },
     "execution_count": 75,
     "metadata": {},
     "output_type": "execute_result"
    }
   ],
   "source": [
    "pc = PokerCalculator(['7h', '6h'], [])\n",
    "\n",
    "pc.calc_flush()"
   ]
  },
  {
   "cell_type": "markdown",
   "metadata": {},
   "source": [
    "## Automated Testing"
   ]
  },
  {
   "cell_type": "markdown",
   "metadata": {},
   "source": [
    "This class simulates picking from a deck to generate possible hand + board combinations. Using these hand+board combinations, we can initialise the `PokerCalculator` object and perform testing. "
   ]
  },
  {
   "cell_type": "code",
   "execution_count": 54,
   "metadata": {},
   "outputs": [],
   "source": [
    "# Hand + Board Generator\n",
    "class PokerGenerator():\n",
    "    def __init__(self):\n",
    "        self.deck = self.create_deck()\n",
    "\n",
    "    def create_deck(self):\n",
    "        deck = []\n",
    "        for num in ['2', '3', '4', '5', '6', '7', '8', '9', 'T', 'A', 'J', 'Q', 'K']: \n",
    "            for suit in [\"h\", \"d\", \"s\", \"c\"]:\n",
    "                deck.append(num+suit)\n",
    "        return deck\n",
    "\n",
    "    def choice(self) -> str:\n",
    "        card = random.choice(self.deck)\n",
    "        self.deck.remove(card)\n",
    "        return card\n",
    "\n",
    "    def generate_hand(self):\n",
    "        return [self.choice(), self.choice()]\n",
    "\n",
    "    def generate_board(self, length = None):\n",
    "        if not length:\n",
    "            length = random.choice([0,3,4,5])\n",
    "        return list([self.choice() for _ in range(length)])\n",
    "\n",
    "    def generate_object(self, board_size = None):\n",
    "        hand = self.generate_hand()\n",
    "        board = self.generate_board(board_size)\n",
    "        p = PokerCalculator(hand, board)\n",
    "        return p"
   ]
  },
  {
   "cell_type": "code",
   "execution_count": 77,
   "metadata": {},
   "outputs": [
    {
     "name": "stdout",
     "output_type": "stream",
     "text": [
      "Hand: ('5c', '2h'), River: ('2s', '9s', 'Tc', 'Qd')\n",
      "2\n",
      "True\n",
      "Hand: ('Jc', 'Td'), River: ('3h', 'Kd', '9c', '7h')\n",
      "False\n",
      "Hand: ('4c', '9d'), River: ('Tc', '7s', '4d', '5s', '8s')\n",
      "4\n",
      "True\n",
      "Hand: ('9d', '8s'), River: ()\n",
      "False\n",
      "Hand: ('3d', 'Qh'), River: ('7c', '5d', '4c')\n",
      "False\n",
      "Hand: ('Ts', '8d'), River: ('Ks', '3d', '6s', '3c', '7d')\n",
      "3\n",
      "True\n",
      "Hand: ('4d', '9h'), River: ()\n",
      "False\n",
      "Hand: ('3h', '5h'), River: ('Kd', '3s', '8s')\n",
      "3\n",
      "True\n",
      "Hand: ('5c', '6d'), River: ('7h', '4c', 'Kd', 'Js')\n",
      "False\n",
      "Hand: ('Ah', 'Kh'), River: ('Ts', '3s', '5d', '3h', 'Th')\n",
      "3\n",
      "True\n",
      "Hand: ('Jd', '2d'), River: ()\n",
      "False\n",
      "Hand: ('3h', 'Ah'), River: ('Ks', 'Qd', '4d', '2d', 'Tc')\n",
      "False\n",
      "Hand: ('5s', 'Qd'), River: ('9c', 'Ac', '7c')\n",
      "False\n",
      "Hand: ('Th', '4h'), River: ()\n",
      "False\n",
      "Hand: ('Ks', '4d'), River: ()\n",
      "False\n",
      "Hand: ('8d', '5c'), River: ('7h', '3h', 'Jc')\n",
      "False\n",
      "Hand: ('Jh', '2c'), River: ('Th', 'As', 'Ks', '9s', '7s')\n",
      "False\n",
      "Hand: ('6h', '6s'), River: ('4h', 'Kc', '2s', 'Tc')\n",
      "6\n",
      "True\n",
      "Hand: ('8d', 'Ts'), River: ('9h', '3h', 'Js', '6s')\n",
      "False\n",
      "Hand: ('3d', '8c'), River: ('2d', '2h', '3h', 'Td')\n",
      "2\n",
      "True\n"
     ]
    }
   ],
   "source": [
    "# Testing if is_one_pair works (Manual Checking)\n",
    "for _ in range(20):\n",
    "    pg = PokerGenerator()\n",
    "    p = pg.generate_object()\n",
    "    p.print_all()\n",
    "    print(p.is_one_pair())"
   ]
  }
 ],
 "metadata": {
  "interpreter": {
   "hash": "d8fa6d6893c610499ca80bf92b1535b1b6db2341b0f924b86150e6583902bdf6"
  },
  "kernelspec": {
   "display_name": "Python 3.8.3 64-bit ('base': conda)",
   "language": "python",
   "name": "python3"
  },
  "language_info": {
   "codemirror_mode": {
    "name": "ipython",
    "version": 3
   },
   "file_extension": ".py",
   "mimetype": "text/x-python",
   "name": "python",
   "nbconvert_exporter": "python",
   "pygments_lexer": "ipython3",
   "version": "3.8.3"
  },
  "orig_nbformat": 4
 },
 "nbformat": 4,
 "nbformat_minor": 2
}
